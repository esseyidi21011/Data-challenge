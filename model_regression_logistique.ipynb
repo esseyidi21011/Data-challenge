{
 "cells": [
  {
   "cell_type": "code",
   "execution_count": 2,
   "id": "6f66ae0b-702f-4ee6-a775-5d043bba27c5",
   "metadata": {},
   "outputs": [],
   "source": [
    "import pandas as pd\n",
    "import numpy as np\n",
    "import matplotlib.pyplot as plt\n",
    "import seaborn as sns\n",
    "from sklearn.model_selection import train_test_split\n",
    "from sklearn.metrics import accuracy_score, classification_report, confusion_matrix\n"
   ]
  },
  {
   "cell_type": "code",
   "execution_count": 4,
   "id": "6c2d4084-0bbe-484c-b1ae-7fe6d4f0dda8",
   "metadata": {},
   "outputs": [],
   "source": [
    "train_data = pd.read_csv(\"C:/Users/hp/Downloads/train_set.csv/train_set.csv\")\n",
    "test_data = pd.read_csv(\"C:/Users/hp/Downloads/test_set.csv/test_set.csv\",sep=\";\")"
   ]
  },
  {
   "cell_type": "code",
   "execution_count": 5,
   "id": "34c958e9-8a24-4d07-b2b5-e51d604d6118",
   "metadata": {},
   "outputs": [],
   "source": [
    "X = train_data.drop(['Decision'], axis=1)\n",
    "y = train_data['Decision'].replace({'Ajourné':0, 'Admis': 1})\n",
    "\n",
    "X = pd.get_dummies(X, drop_first = False)\n",
    "X_train, X_val, y_train, y_val = train_test_split(X, y, test_size=0.2, random_state=42)\n"
   ]
  },
  {
   "cell_type": "code",
   "execution_count": 6,
   "id": "79688b0e-1a0f-478e-9eb8-70a670a24578",
   "metadata": {},
   "outputs": [],
   "source": [
    "test_data = pd.get_dummies(test_data, drop_first = False)"
   ]
  },
  {
   "cell_type": "code",
   "execution_count": 7,
   "id": "104985b5-4838-4450-bf88-bd613e689a5e",
   "metadata": {},
   "outputs": [],
   "source": [
    "train_df_columns=['AnneeNaissance', 'Serie,x_LM', 'Serie,x_LO', 'Serie,x_M', 'Serie,x_SN', 'Serie,x_TM', 'GroupeAnonymat_LM1', 'GroupeAnonymat_LM2', 'GroupeAnonymat_LM3', 'GroupeAnonymat_LM4', 'GroupeAnonymat_LM5', 'GroupeAnonymat_LM6', 'GroupeAnonymat_LO1', 'GroupeAnonymat_LO2', 'GroupeAnonymat_LO3', 'GroupeAnonymat_LO4', 'GroupeAnonymat_M01', 'GroupeAnonymat_M02', 'GroupeAnonymat_SN01', 'GroupeAnonymat_SN02', 'GroupeAnonymat_SN03', 'GroupeAnonymat_SN04', 'GroupeAnonymat_SN05', 'GroupeAnonymat_SN06', 'GroupeAnonymat_SN07', 'GroupeAnonymat_SN08', 'GroupeAnonymat_SN09', 'GroupeAnonymat_SN10', 'GroupeAnonymat_SN11', 'GroupeAnonymat_SN12', 'LieuNaissance_ABU DHABI', 'LieuNaissance_Abidjan', 'LieuNaissance_Abou Bedi', 'LieuNaissance_Abou Dhabi', 'LieuNaissance_Aboudabi', 'LieuNaissance_Aboudhabi', 'LieuNaissance_Aboye', 'LieuNaissance_Abu Dhabi', 'LieuNaissance_Achemim', 'LieuNaissance_Adel Bagrou', \"LieuNaissance_Aere M'Bar\", 'LieuNaissance_Aghchoourguit', 'LieuNaissance_Aghchourguit', 'LieuNaissance_Aghorat', 'LieuNaissance_Aghraghar', 'LieuNaissance_Agoueinit', 'LieuNaissance_Ain Ehel Taya', 'LieuNaissance_Ain Savra', 'LieuNaissance_Ain Varba', 'LieuNaissance_Ain Verba', 'LieuNaissance_Ajoueir', 'LieuNaissance_Akjoujt', 'LieuNaissance_Al Dhafra', 'LieuNaissance_Aleg', 'LieuNaissance_Amjenjer', 'LieuNaissance_Amourj', 'LieuNaissance_Aoueinat Zbel', 'LieuNaissance_Aoujeft', 'LieuNaissance_Aouleiygat', 'LieuNaissance_Arafat', 'LieuNaissance_Arr', 'LieuNaissance_Asaco Benkady', 'LieuNaissance_Atar', 'LieuNaissance_Aweinat Thalle', 'LieuNaissance_Aweînett Ould Chedad', 'LieuNaissance_Azguelem Tiyab', 'LieuNaissance_Bababé', 'LieuNaissance_Baediam', 'LieuNaissance_Bagodine', 'LieuNaissance_Bamako', 'LieuNaissance_Bandjoul', 'LieuNaissance_Bangou', 'LieuNaissance_Bangui', 'LieuNaissance_Bareine', 'LieuNaissance_Barkeiwel', 'LieuNaissance_Barkéol', 'LieuNaissance_Basseknou', 'LieuNaissance_Bassiknou', 'LieuNaissance_Bathet Meit', 'LieuNaissance_Bathet Moit', 'LieuNaissance_Bathet meit', 'LieuNaissance_Baydjam', 'LieuNaissance_Beileguet Litam', 'LieuNaissance_Beir Taouress', 'LieuNaissance_Benaeman', 'LieuNaissance_Beneamane', 'LieuNaissance_Benguo', 'LieuNaissance_Benichab', 'LieuNaissance_Bennechab', 'LieuNaissance_Beribave', 'LieuNaissance_Bir Gouss', 'LieuNaissance_Bir Moghrein', 'LieuNaissance_Birmoughrein', 'LieuNaissance_Blajmil', 'LieuNaissance_Boghe', 'LieuNaissance_Boghé', 'LieuNaissance_Bokhol', 'LieuNaissance_Bou Lahrath', 'LieuNaissance_Bouake', 'LieuNaissance_Bouanz', 'LieuNaissance_Boubacar Ben Amer', 'LieuNaissance_Bougadoum', 'LieuNaissance_Boughé', 'LieuNaissance_Bouhdida', 'LieuNaissance_Bouhdide', 'LieuNaissance_Boukel', 'LieuNaissance_Boulenouar', 'LieuNaissance_Boully', 'LieuNaissance_Boumdeid', 'LieuNaissance_Bousteïla', 'LieuNaissance_Boutalhaye', 'LieuNaissance_Boutilimit', 'LieuNaissance_Bowda', 'LieuNaissance_Brazzaville', 'LieuNaissance_Brrazaville', 'LieuNaissance_Bruxelles', 'LieuNaissance_Butare', 'LieuNaissance_Buyo', 'LieuNaissance_Casablanca', 'LieuNaissance_Centre Afrique', 'LieuNaissance_Charigha', 'LieuNaissance_Cheggar', 'LieuNaissance_Chelkhet Tiyab', 'LieuNaissance_Chenguitti', 'LieuNaissance_Chinguitti', 'LieuNaissance_Choum', 'LieuNaissance_Chrame', 'LieuNaissance_Clamart', 'LieuNaissance_Congo-Brazzaville', 'LieuNaissance_Coumbi Saleh', \"LieuNaissance_Côte d'Ivoire\", 'LieuNaissance_DAHKLA', 'LieuNaissance_DAMASCUS', 'LieuNaissance_DOUAR TAGMOUT TAGHJIJT', 'LieuNaissance_Dafort', 'LieuNaissance_Daghveg', 'LieuNaissance_Dakar', 'LieuNaissance_Dakhla', 'LieuNaissance_Dar EL Aviye', 'LieuNaissance_Dar El Barke', 'LieuNaissance_Dar Halaybe', 'LieuNaissance_Dar Naim', 'LieuNaissance_Davour', 'LieuNaissance_Daw', 'LieuNaissance_Dawlel', 'LieuNaissance_Devaa', 'LieuNaissance_Dewha', 'LieuNaissance_Dindi', 'LieuNaissance_Divo', 'LieuNaissance_Djellewar', 'LieuNaissance_Djeol', 'LieuNaissance_Djewol', 'LieuNaissance_Djiaguily', 'LieuNaissance_Djiguenni', 'LieuNaissance_Djogo ntour', 'LieuNaissance_Djonabe', 'LieuNaissance_Dodel', 'LieuNaissance_Doha', 'LieuNaissance_Dolol Cive', 'LieuNaissance_Doueirare', 'LieuNaissance_Dweirare', 'LieuNaissance_EL BASRA', 'LieuNaissance_ELALIA', 'LieuNaissance_Ebou Dabi', 'LieuNaissance_Ebou Dhabi', 'LieuNaissance_Eboudhabi', 'LieuNaissance_Edebaye Ehel Guelaye', 'LieuNaissance_Edebaye El Hejaj', 'LieuNaissance_Edebaye El Hejjaj', 'LieuNaissance_Egharghar', 'LieuNaissance_Egjert', 'LieuNaissance_Egjret', 'LieuNaissance_Ejar', 'LieuNaissance_Ekjert', 'LieuNaissance_El Ariye', 'LieuNaissance_El Ghabra', 'LieuNaissance_El Ghaira', 'LieuNaissance_El Hassi', 'LieuNaissance_El Imaratt', 'LieuNaissance_El Khat', 'LieuNaissance_El Mebrouk', 'LieuNaissance_El Medah', 'LieuNaissance_El Medina El Mounewara', 'LieuNaissance_El Megve', 'LieuNaissance_El Melgue', 'LieuNaissance_El Mina', 'LieuNaissance_El Mouyessar', 'LieuNaissance_El Verae', 'LieuNaissance_El Wahat', 'LieuNaissance_ElGhabra', 'LieuNaissance_Elb Adress', 'LieuNaissance_Elvorea', 'LieuNaissance_Elvoulanya', 'LieuNaissance_Emirats arabes unis', 'LieuNaissance_Esseva', 'LieuNaissance_Etats-Unis', 'LieuNaissance_Ethiopia', 'LieuNaissance_Etouil', \"LieuNaissance_F'Deirick\", 'LieuNaissance_Feireni', 'LieuNaissance_Gaet Teidoume', 'LieuNaissance_Ganki', 'LieuNaissance_Ghabou', 'LieuNaissance_Ghlig Ehel Beye', 'LieuNaissance_Gougui Zemmal', 'LieuNaissance_Gouraye', 'LieuNaissance_Gueller', 'LieuNaissance_Guerou', 'LieuNaissance_Guetae Teidoume', 'LieuNaissance_Guiraye', 'LieuNaissance_Guémou', 'LieuNaissance_Guérou', 'LieuNaissance_Haere Mbar', \"LieuNaissance_Haire M'Bar\", 'LieuNaissance_Hamed', 'LieuNaissance_Hassi Abdallah', 'LieuNaissance_Hassi Chegar', 'LieuNaissance_Hassi Ehel Ahmed Bechne', 'LieuNaissance_Hassi Ehel Ahmed Bouchne', 'LieuNaissance_Hassi Ehl Ahmed Bechne', 'LieuNaissance_Hassi El Barka', 'LieuNaissance_Hassi Etile', \"LieuNaissance_Hassi M'Hady\", 'LieuNaissance_Hseiy Tin', 'LieuNaissance_Inal', 'LieuNaissance_Jedrel Mohguen', 'LieuNaissance_Jelwa', 'LieuNaissance_Jreif', 'LieuNaissance_Kaankossa', 'LieuNaissance_Kaedi', 'LieuNaissance_Kahel', 'LieuNaissance_Kalinioro', 'LieuNaissance_Kamour', 'LieuNaissance_Kankossa', 'LieuNaissance_Kankoussa', 'LieuNaissance_Kaédi', 'LieuNaissance_Kenkoussa', 'LieuNaissance_Kentucky', 'LieuNaissance_Keur Macène', 'LieuNaissance_Khourtoum', 'LieuNaissance_Kiffa', 'LieuNaissance_Kobeni', 'LieuNaissance_Korkadj', 'LieuNaissance_Koubenni', 'LieuNaissance_Kouroudjel', 'LieuNaissance_Koweït', 'LieuNaissance_Ksar', 'LieuNaissance_Ksar El Barka', 'LieuNaissance_LAAYOUNE', 'LieuNaissance_LAS PALMAS', 'LieuNaissance_LEGANES', 'LieuNaissance_La Mecque', 'LieuNaissance_Lahrach', 'LieuNaissance_Lambarene', 'LieuNaissance_Las Palmas', 'LieuNaissance_Lavtah', 'LieuNaissance_Laweissi', 'LieuNaissance_Lboully', 'LieuNaissance_Leaweinat', 'LieuNaissance_Lebheir', 'LieuNaissance_Leboully', 'LieuNaissance_Leghlig', 'LieuNaissance_Legrane', 'LieuNaissance_Lehraj', 'LieuNaissance_Lehreijat', 'LieuNaissance_Lehsira', 'LieuNaissance_Lekseibe', 'LieuNaissance_Lemghalich', 'LieuNaissance_Lemleihiss', 'LieuNaissance_Lexeiba', 'LieuNaissance_Lexeibe', 'LieuNaissance_Libie', 'LieuNaissance_Libreville', 'LieuNaissance_Libye', 'LieuNaissance_Lorine', \"LieuNaissance_M'Agne\", \"LieuNaissance_M'Bagne\", \"LieuNaissance_M'Balal\", \"LieuNaissance_M'Baut\", \"LieuNaissance_M'Boly\", \"LieuNaissance_M'Boot\", \"LieuNaissance_M'Bout\", \"LieuNaissance_M'beiket Lahwach\", 'LieuNaissance_MADINAH', 'LieuNaissance_MARRAKECH MEDINA', 'LieuNaissance_Maaden', 'LieuNaissance_Mabrouk', 'LieuNaissance_Madrid', 'LieuNaissance_Maeden', 'LieuNaissance_Maghama', 'LieuNaissance_Maghta Lahgar', 'LieuNaissance_Maghtalahjar', 'LieuNaissance_Magta-Lahjar', 'LieuNaissance_Magtaa Lahjar', 'LieuNaissance_Magtalahjar', 'LieuNaissance_Mal', 'LieuNaissance_Male', 'LieuNaissance_Mali', 'LieuNaissance_Maroc', 'LieuNaissance_Mbagnou', 'LieuNaissance_Mbout', 'LieuNaissance_Mederdra', 'LieuNaissance_Medina', 'LieuNaissance_Medina Ndiathbe', 'LieuNaissance_Meka', 'LieuNaissance_Melzem Teichet', 'LieuNaissance_Modibougou', 'LieuNaissance_Monguel', 'LieuNaissance_Moscou', 'LieuNaissance_Mosko', 'LieuNaissance_Moudjeria', 'LieuNaissance_Moudjéria', \"LieuNaissance_N'Beike\", \"LieuNaissance_N'Beiket Lahwach\", \"LieuNaissance_N'Diadjbenni Gandéga\", \"LieuNaissance_N'Diago\", \"LieuNaissance_N'Djadjbenni Gandega\", \"LieuNaissance_N'Doumelly\", \"LieuNaissance_N'Saveni\", \"LieuNaissance_N'Savenni\", \"LieuNaissance_N'Teichet\", \"LieuNaissance_N'Teikan\", \"LieuNaissance_N'Teirguent\", \"LieuNaissance_N'goral Guidala\", 'LieuNaissance_NOUAKCHOTT', 'LieuNaissance_Ndioum', 'LieuNaissance_Nebaghiya', 'LieuNaissance_Nebaghiye', 'LieuNaissance_Nema', 'LieuNaissance_Nere Walo', 'LieuNaissance_Niabina', 'LieuNaissance_Niger', 'LieuNaissance_Niourou', 'LieuNaissance_Nouadhibou', 'LieuNaissance_Nouakchott', 'LieuNaissance_Noual', 'LieuNaissance_Nouamghar', 'LieuNaissance_Nouamlein', 'LieuNaissance_Néma', 'LieuNaissance_Ohio', 'LieuNaissance_Ouad Emmour', 'LieuNaissance_Ouad Naga', 'LieuNaissance_Ouadan', 'LieuNaissance_Ouadane', 'LieuNaissance_Oualata', 'LieuNaissance_Oudeiy Jrid', 'LieuNaissance_Ould Bierem', 'LieuNaissance_Ould Biram', \"LieuNaissance_Ould M'Bonny\", 'LieuNaissance_Ould Yengé', 'LieuNaissance_Oum Avnadech', 'LieuNaissance_Oum El Ghaywine', 'LieuNaissance_Oum Lahyadh', 'LieuNaissance_Paris', 'LieuNaissance_Pikine', 'LieuNaissance_Podor', 'LieuNaissance_Pointe Noire', 'LieuNaissance_Qatar', \"LieuNaissance_R'Deidih\", \"LieuNaissance_R'Dheidhie\", \"LieuNaissance_R'Kiz\", 'LieuNaissance_RAO(saint louis)', 'LieuNaissance_REGUEB', 'LieuNaissance_Rabat', 'LieuNaissance_Radhi', 'LieuNaissance_Raghi', 'LieuNaissance_Riyad', 'LieuNaissance_Rosso', 'LieuNaissance_Rosso Peulh', 'LieuNaissance_Rufisque', 'LieuNaissance_SAINT LOUS- SENEGAL', 'LieuNaissance_Sagny', 'LieuNaissance_Saint Louis', 'LieuNaissance_Sangrave', 'LieuNaissance_Sani', 'LieuNaissance_Sarandogou', 'LieuNaissance_Sava', 'LieuNaissance_Saye', 'LieuNaissance_Sebha', 'LieuNaissance_Sebkha', 'LieuNaissance_Selibaby', 'LieuNaissance_Seyal Gababé', 'LieuNaissance_Sharjah', 'LieuNaissance_Sincina koutiala', 'LieuNaissance_Sinthian Diakri', 'LieuNaissance_Sinthiou Penaka', 'LieuNaissance_Sorman', 'LieuNaissance_Soudan', 'LieuNaissance_Soudoud', 'LieuNaissance_Soufa', 'LieuNaissance_Souvi', 'LieuNaissance_Sylla', 'LieuNaissance_Sélibaby', 'LieuNaissance_Sénégal', 'LieuNaissance_THIONCK ESSYL', 'LieuNaissance_TUNIS', 'LieuNaissance_Tachout', 'LieuNaissance_Tachoutt', 'LieuNaissance_Taguilalet', 'LieuNaissance_Talli Taïbe', 'LieuNaissance_Tamcheket', 'LieuNaissance_Tamchekett', 'LieuNaissance_Tamechekett', 'LieuNaissance_Tarenguet Ehl Moulaye Ely', 'LieuNaissance_Targuent Ehl Moulaye Ely', 'LieuNaissance_Tawaz', 'LieuNaissance_Tekane', 'LieuNaissance_Tektake', 'LieuNaissance_Ten Hamadi', 'LieuNaissance_Tenaha', 'LieuNaissance_Tenghadej', 'LieuNaissance_Tenhemad', 'LieuNaissance_Tenim', 'LieuNaissance_Tensigh', 'LieuNaissance_Tevragh Zeina', 'LieuNaissance_Teyaret', 'LieuNaissance_Thialgou', 'LieuNaissance_Thide', 'LieuNaissance_Thripolie', 'LieuNaissance_Tichit', 'LieuNaissance_Tidjikja', 'LieuNaissance_Tifond Cive', 'LieuNaissance_Tifondé Civé', 'LieuNaissance_Tiguent', 'LieuNaissance_Tikobra', 'LieuNaissance_Timbedra', 'LieuNaissance_Timzine', 'LieuNaissance_Tintan', 'LieuNaissance_Tintane', 'LieuNaissance_Tmeimichat', 'LieuNaissance_Tokomadji', 'LieuNaissance_Toui-Diéri', 'LieuNaissance_Touil', 'LieuNaissance_Toujounine', 'LieuNaissance_Toulde', 'LieuNaissance_Touldé', 'LieuNaissance_Toulel', 'LieuNaissance_Treichville', 'LieuNaissance_Treïdatt', 'LieuNaissance_Tripoli', 'LieuNaissance_Twil', 'LieuNaissance_Vassala', 'LieuNaissance_Vessale', 'LieuNaissance_Victoria', 'LieuNaissance_Voullaniya', 'LieuNaissance_Voum Legleite', 'LieuNaissance_Vrea Litame', 'LieuNaissance_WISCONSIN', 'LieuNaissance_Waboundé', 'LieuNaissance_Wad Amour', 'LieuNaissance_Wali Djantang', 'LieuNaissance_Woloum', 'LieuNaissance_Woloum Nere', 'LieuNaissance_Wompou', 'LieuNaissance_Younoufere', 'LieuNaissance_Zoueirat', 'LieuNaissance_Zoueratt', 'LieuNaissance_aioun', 'LieuNaissance_Émirats arabes unis', 'Centre_College Arafat 6', 'Centre_College Arafat 8', 'Centre_College Babe El veth', 'Centre_College Bouhdida', 'Centre_College El Mina 3', 'Centre_College Nema 1', 'Centre_College Rosso 4', 'Centre_College Teyarett 1', 'Centre_Collège Jeunes Filles', 'Centre_Collège Kaedi 2', 'Centre_Collège Kiffa 1', 'Centre_Collège Kiffa 2', 'Centre_Collège Ksar', 'Centre_Collége Arafat 3', 'Centre_Collége Boutimit 2', 'Centre_Collége Cheikh El Hacen', \"Centre_Collége Jeunes Filles d'Aioun\", 'Centre_Collége Robinet', 'Centre_Collége Sebkha 1', 'Centre_Ecole 3 (Maison de Jeunes)', 'Centre_Ecole 6 Akjoujt', 'Centre_Ecole 6 Nema (Chewviya)', 'Centre_Ecole Abba Ould Khtour', 'Centre_Ecole Annexe', 'Centre_Ecole El Varough - Arafat', 'Centre_Ecole Ethmane Teyaret', 'Centre_Ecole Horma-Nayeb- Toujounine', 'Centre_Ecole Houceine - Arafat', 'Centre_Ecole Ibn Sina-Tevrgah Zeine', 'Centre_Ecole Normale des Instituteurs', 'Centre_Ecole Ould Taleb Ely- Teyaret', 'Centre_Ecole Satara Rosso', 'Centre_Ecole Sidi Abdoullah-Arafat', 'Centre_Ecole Sidigh Dar Naim', 'Centre_Ecole Sonader-Kiffa', 'Centre_Ecole Youssouf Dar Naim', \"Centre_Eni d' Aioun\", 'Centre_Eole Ebou Dherine Teyaret', 'Centre_Lycee Boubacar', 'Centre_Lycee Ghuidiya', 'Centre_Lycee Kifa 1', 'Centre_Lycee Kifa 2', 'Centre_Lycee Maghama', 'Centre_Lycee Mata Moulana', 'Centre_Lycee O/ Yenge', 'Centre_Lycee Tekane', \"Centre_Lycèe N'Jimlan\", \"Centre_Lycèe N'beika\", 'Centre_Lycèe Voulaniya', 'Centre_Lycée Adel Begrou', 'Centre_Lycée Aioun', 'Centre_Lycée Akjoujt', 'Centre_Lycée Aleg', 'Centre_Lycée Amourj', 'Centre_Lycée Arabe', 'Centre_Lycée Arafat 1 (B)', 'Centre_Lycée Arafat 2 (A)', 'Centre_Lycée Arafat 2 (B)', 'Centre_Lycée Arafat 3 (A)', 'Centre_Lycée Arafat 3 (B)', 'Centre_Lycée Arafat 4', 'Centre_Lycée Arafat 5', 'Centre_Lycée Arafat Boutilimitt', 'Centre_Lycée Arafat1 (A)', 'Centre_Lycée Atar', 'Centre_Lycée Bababé', 'Centre_Lycée Bagoudine', 'Centre_Lycée Bassiknou', 'Centre_Lycée Bennichab', 'Centre_Lycée Boghe', 'Centre_Lycée Boukhzama', 'Centre_Lycée Boumdeid', 'Centre_Lycée Boutilimitt', 'Centre_Lycée Dar Naim 1', 'Centre_Lycée Dar Naim 3', 'Centre_Lycée Djigueni', 'Centre_Lycée Dwairara', 'Centre_Lycée El Ghayra', 'Centre_Lycée El Melhess', 'Centre_Lycée El Mina 2', 'Centre_Lycée El Mina 3', 'Centre_Lycée El Mina 4', 'Centre_Lycée Elmina 1', 'Centre_Lycée Excellence 1', 'Centre_Lycée Excellence 4 TZN', 'Centre_Lycée Gouraye', 'Centre_Lycée Guerrou', 'Centre_Lycée J F Atar', 'Centre_Lycée Jedida', 'Centre_Lycée Kaedi 1', 'Centre_Lycée Kaedi 2', 'Centre_Lycée Kankoussa', 'Centre_Lycée Kiffa 3', 'Centre_Lycée Lexeiba 1', 'Centre_Lycée Lihraj', \"Centre_Lycée M'Boutt\", 'Centre_Lycée Magta-Lahjar', 'Centre_Lycée Mbagne', 'Centre_Lycée Mederdra', 'Centre_Lycée Naim', 'Centre_Lycée Nema', 'Centre_Lycée Nouadhibou 1', 'Centre_Lycée Nouadhibou 2', 'Centre_Lycée Nouadhibou 3', 'Centre_Lycée Néré Walo', 'Centre_Lycée Riyad 1', 'Centre_Lycée Riyad 2', 'Centre_Lycée Riyad 3', 'Centre_Lycée Riyad 5', 'Centre_Lycée Rkiz', 'Centre_Lycée Rosso', 'Centre_Lycée Sebkha 1', 'Centre_Lycée Sebkha 2', 'Centre_Lycée Seilibaby 1', 'Centre_Lycée Tachoot', 'Centre_Lycée Tamchekett', 'Centre_Lycée Technique', 'Centre_Lycée Tevrag-Zeina', 'Centre_Lycée Teyaratt 1', 'Centre_Lycée Teyaratt 2', 'Centre_Lycée Tidjikja', 'Centre_Lycée Tiguinit', 'Centre_Lycée Timbedra', 'Centre_Lycée Tintane', 'Centre_Lycée Toujounine 1', 'Centre_Lycée Toujounine 2', 'Centre_Lycée Vassala', 'Centre_Lycée Wad naga', 'Centre_Lycée Wava Nouadhibou', 'Centre_Lycée Zouerat', 'Centre_Lycée chinguetti', 'Centre_Lycée de Barkéol', 'Centre_Lycée de Garçons 1', 'Centre_Lycée de Garçons 2', 'Centre_Lycée de Kobéni', 'Centre_Ould Ahmed Zerough', 'Centre_Ould Tweir Jenna- Arafat', 'Etablissement_ABOUDOUGANA ARAFAT', 'Etablissement_ADWA El Marif ARAFAT', 'Etablissement_AL QALEM', 'Etablissement_ATLAS HOURRA GUERROU', 'Etablissement_AVAGH EL MOUSTAGHBEL TZN', 'Etablissement_AVENIR BOGHE', 'Etablissement_Abdel Aziz Sy', 'Etablissement_Aboudoujana', 'Etablissement_Al Ourwa TZN', 'Etablissement_Avagh El Ouloum Arafat', 'Etablissement_BAB EL OULOUM ARAFAT', 'Etablissement_BEELI EL HOURA Elmina', 'Etablissement_Ba Souleye Elmina', 'Etablissement_Bab El Hikma Toujounine', 'Etablissement_Babe El Ilm KSAR', 'Etablissement_Babe Esselam SBK', 'Etablissement_Bouchra Toujounine', 'Etablissement_Boulough El Meram Arafat', 'Etablissement_CARAVANE DU SAVAOIR Ksar', 'Etablissement_CHEIKH MOHAMED TIDJANI Ryad', 'Etablissement_CHOUROUGH MAARIVY ARAFAT', 'Etablissement_Candidats Libres 14', 'Etablissement_Candidats Libres Dar Naim Nouakchott Est 13', 'Etablissement_Candidats Libres Elmina', 'Etablissement_Candidats Libres Riyad', 'Etablissement_Candidats Libres Teyaret Nouakchott Est 13', 'Etablissement_Chahada Teyarett', 'Etablissement_Challenge Ksar', 'Etablissement_Cheikh Moussa', 'Etablissement_Chems Dine Dar Naime', 'Etablissement_Chems El Maarif Toujounine', 'Etablissement_Cheyma Kiffa', 'Etablissement_College Babe El veth', 'Etablissement_College Bou Amar Privé', 'Etablissement_College Bouhdida', 'Etablissement_College Touldé Boghé', 'Etablissement_Collége Boulenwar Nouadhibou', 'Etablissement_Collége Boutilimit 2', 'Etablissement_Collége Cheikh El Hacen', 'Etablissement_Collége Nouadhibou1', 'Etablissement_Collége Robinet', 'Etablissement_Collége Rosso 3', 'Etablissement_Collége Tigmatine', 'Etablissement_Collége Tumba Yali', 'Etablissement_Complexe Intelligencia', 'Etablissement_Compléxe El Vadila Maghta Lehjar', 'Etablissement_DHIFFA HOURRA ROSSO', 'Etablissement_DJEWAL', 'Etablissement_Dar El Maarif Toujounine', 'Etablissement_Dar El Ouloum Aleg', 'Etablissement_Dar El Ouloum KSAR', 'Etablissement_Dar El Vikir Riyad', 'Etablissement_Dhiyava WEL MANARA Toujounine', 'Etablissement_Dioukhamadya TZN', 'Etablissement_Diya TZN', 'Etablissement_E E T F P de Néma', 'Etablissement_ECOLE GENERATION', 'Etablissement_ECOLE Rouwad Houra KIFFA', 'Etablissement_ECOLE TALAIOU', 'Etablissement_ECOLES NOUJOUM TZN', 'Etablissement_EIFOUTY', 'Etablissement_EL ADALA Kiffa', 'Etablissement_EL AVDAL CARAFOUR MADRID', 'Etablissement_EL AWAYIL LAUREAT ARAFAT', 'Etablissement_EL AWLAMA SBK', 'Etablissement_EL ENJOUM Toujounine', 'Etablissement_EL ENWAR HOURA TDJ', 'Etablissement_EL Ghoudwa Teyaret', 'Etablissement_EL HAMD ALEG', 'Etablissement_EL HAMD EL KHASSA ARAFAT', 'Etablissement_EL HOUDA BTLM', 'Etablissement_EL IRVANE Arafat', 'Etablissement_EL ITGHANE Toujounine', 'Etablissement_EL Inaya Arafat', 'Etablissement_EL KEVAA Arafat', 'Etablissement_EL Karama Rosso', 'Etablissement_EL MEANY Arafat', 'Etablissement_EL MEDINA 2', 'Etablissement_EL MEDINA TEY', 'Etablissement_EL MIDAD KIFFA', 'Etablissement_EL MOUHAMEDIYE HADITHA MLJ', 'Etablissement_EL MOUNIR Arafat', 'Etablissement_EL MOURAD Arafat', 'Etablissement_EL Meani TEY', 'Etablissement_EL Mewahib 2', 'Etablissement_EL Mewahib NDB', 'Etablissement_EL Mourad Leksar', 'Etablissement_EL VEJR HOURA Arafat', 'Etablissement_ELVADILA', 'Etablissement_EMINA Arafat', 'Etablissement_ENSAAR EL ILME', 'Etablissement_ESADIGH', 'Etablissement_ESSIBLEL HOUR NDB', 'Etablissement_ETEWVIK EL HOURA KOBENY', 'Etablissement_Ebety Dar Naim', 'Etablissement_Echaab Teyaret', 'Etablissement_Eclosion', 'Etablissement_Ecole El Bir-Ghayra', 'Etablissement_Ecole Moctar Ould Dadah', 'Etablissement_Ecole Seghare', 'Etablissement_Ecole des cadres TZN', 'Etablissement_Education Pour Tous', 'Etablissement_Ejyal EL Moustaghbal Teyaret', 'Etablissement_Ejyal EL Moustaghbal Teyaret 1', 'Etablissement_Ejyal EL Moustaghbal Teyaret 2', 'Etablissement_El Ahaly TZN', 'Etablissement_El Ahya Dar Naim', 'Etablissement_El Amriya', 'Etablissement_El Assala Dar Naim', 'Etablissement_El Assr Arafat', 'Etablissement_El Assr El Haditha Arafat', 'Etablissement_El Baraka KSAR', 'Etablissement_El Emel Toujounine', 'Etablissement_El Houda Arafat Carrefour', 'Etablissement_El Ibdaa Riyad', 'Etablissement_El Ibtikar', 'Etablissement_El Ikhlass Toujounine', 'Etablissement_El Ilm we Tewassoul MLJ', 'Etablissement_El Inara KSAR', 'Etablissement_El Islah Raid Arafat', 'Etablissement_El Isslah Sedid Toujounine', 'Etablissement_El Khiyar El Hora KSAR', \"Etablissement_El Khiyar R'Kiz\", 'Etablissement_El MENHEL EL JEDID - NDB', 'Etablissement_El Maarif EL HOURA TZN', 'Etablissement_El Medar Arafat', 'Etablissement_El Menara Rosso', 'Etablissement_El Menhel Jedida Ryad', 'Etablissement_El Mewahib El Jedida Toujounine', 'Etablissement_El Mohamedia ZRT', 'Etablissement_El Mouhamediya Aleg', 'Etablissement_El Mouhendicine Dar Naim', 'Etablissement_El Mourabitoune Boghé', 'Etablissement_El Mourad TZN', 'Etablissement_El Outhour Arafat', 'Etablissement_El Vaida El Mina', 'Etablissement_El Vaida Sebkha', 'Etablissement_El Vejir TEY', 'Etablissement_El Velagh TEY', 'Etablissement_El Veth Aioun Houra', 'Etablissement_El Vikir Estimbatt Toujounine', 'Etablissement_El Wava Arafat', 'Etablissement_Ens Inb Maleck -TEY', 'Etablissement_Enssar El Maarif-TEY', 'Etablissement_Erihane TEY', 'Etablissement_Fontaine TZN', 'Etablissement_G NASSR Kankoussa', 'Etablissement_Ghabess Teyaret', 'Etablissement_Ghasser El Barka Dar Naime', 'Etablissement_Ghila El Elm Arafat', 'Etablissement_Groupe Scolaire Waghif Maarif Turc', 'Etablissement_IGHRAA MODERNE TEY', 'Etablissement_INSTITUT ISLAMIQUE Kiffa', 'Etablissement_Ibn Eby El Argham Teyarett', 'Etablissement_Imam El Ghazaly KSAR', 'Etablissement_Iman TZN', 'Etablissement_Imtiyaz Privée BTLM', 'Etablissement_Imtiyaz Toujounine', 'Etablissement_Institut Abdellahi Ben Yacine', 'Etablissement_Institut Boubacar Ben Amer Kiffa', 'Etablissement_Institut El Hagh Dar Naim', 'Etablissement_Institut Limam Abdel Kader Kane', 'Etablissement_Institut Limam ElHadrami (Boutilimit)', 'Etablissement_Isslah Raid Tintane', 'Etablissement_KOUNOUZ EL MARIVE TZN', 'Etablissement_Khairy Seilibaby', 'Etablissement_LA PEDAGOGYE', 'Etablissement_Lemjad Toujounine', 'Etablissement_Lisslah', 'Etablissement_Lycee Boubacar', 'Etablissement_Lycee Ghuidiya', 'Etablissement_Lycee Kifa 1', 'Etablissement_Lycee Kifa 2', 'Etablissement_Lycee Maghama', 'Etablissement_Lycee Mata Moulana', 'Etablissement_Lycee O/ Yenge', 'Etablissement_Lycee Tekane', 'Etablissement_Lycee Wampou', 'Etablissement_Lycèe Ain Varba', \"Etablissement_Lycèe N'Jimlan\", \"Etablissement_Lycèe N'beika\", 'Etablissement_Lycèe Voulaniya', 'Etablissement_Lycée Adel Begrou', 'Etablissement_Lycée Aghlembit', 'Etablissement_Lycée Aioun', 'Etablissement_Lycée Akjoujt', 'Etablissement_Lycée Aleg', 'Etablissement_Lycée Amourj', 'Etablissement_Lycée Aoueinatt Zbil', 'Etablissement_Lycée Aoujeft', 'Etablissement_Lycée Arabe', 'Etablissement_Lycée Arafat 1', 'Etablissement_Lycée Arafat 2', 'Etablissement_Lycée Arafat 3', 'Etablissement_Lycée Arafat Boutilimitt', 'Etablissement_Lycée Atar', 'Etablissement_Lycée Bababé', 'Etablissement_Lycée Bagoudine', 'Etablissement_Lycée Banguou', 'Etablissement_Lycée Bassiknou', 'Etablissement_Lycée Bennichab', 'Etablissement_Lycée Boghe', 'Etablissement_Lycée Boukhzama', 'Etablissement_Lycée Boumdeid', 'Etablissement_Lycée Boutilimitt', 'Etablissement_Lycée Dar Naim 1', 'Etablissement_Lycée Dar Naim 2', 'Etablissement_Lycée Dar Naim 3', 'Etablissement_Lycée Djigueni', 'Etablissement_Lycée Dwairara', 'Etablissement_Lycée El Ghayra', 'Etablissement_Lycée El HOUDA', 'Etablissement_Lycée El Melhess', 'Etablissement_Lycée El Mina 3', 'Etablissement_Lycée Elmina 1', 'Etablissement_Lycée Excellence 1', 'Etablissement_Lycée Excellence 2', 'Etablissement_Lycée Excellence Kaedi', 'Etablissement_Lycée Excellence Nouadhibou', 'Etablissement_Lycée Ghabou', 'Etablissement_Lycée Gouraye', 'Etablissement_Lycée Guerrou', 'Etablissement_Lycée Jedida', 'Etablissement_Lycée Jeunne Filles NKc', 'Etablissement_Lycée Kaedi 1', 'Etablissement_Lycée Kaedi 2', 'Etablissement_Lycée Kamour', 'Etablissement_Lycée Kankoussa', 'Etablissement_Lycée Kiffa 3', 'Etablissement_Lycée Lexeiba 1', 'Etablissement_Lycée Lihraj', \"Etablissement_Lycée M'Boutt\", 'Etablissement_Lycée Magham Ibrahim', 'Etablissement_Lycée Magta-Lahjar', 'Etablissement_Lycée Mbagne', 'Etablissement_Lycée Mebdoua Amourj', 'Etablissement_Lycée Mederdra', 'Etablissement_Lycée Militaire', 'Etablissement_Lycée Modjeria', 'Etablissement_Lycée Naim', 'Etablissement_Lycée Nema', 'Etablissement_Lycée Nouadhibou 1', 'Etablissement_Lycée Nouadhibou 2', 'Etablissement_Lycée Nouadhibou 3', 'Etablissement_Lycée Néré Walo', 'Etablissement_Lycée Oudey Majbour', 'Etablissement_Lycée Ougey', 'Etablissement_Lycée Pilote de Kaedi', 'Etablissement_Lycée Privé Sangama', 'Etablissement_Lycée Rachid', 'Etablissement_Lycée Riyad 1', 'Etablissement_Lycée Riyad 2', 'Etablissement_Lycée Riyad 3', 'Etablissement_Lycée Rkiz', 'Etablissement_Lycée Rosso', 'Etablissement_Lycée Rosso 2', 'Etablissement_Lycée Sava', 'Etablissement_Lycée Sebkha 1', 'Etablissement_Lycée Sebkha 2', 'Etablissement_Lycée Seilibaby 1', 'Etablissement_Lycée Seilibaby 2', 'Etablissement_Lycée Tachoot', 'Etablissement_Lycée Tamchekett', 'Etablissement_Lycée Technique', 'Etablissement_Lycée Tevrag-Zeina', 'Etablissement_Lycée Teyaratt 1', 'Etablissement_Lycée Teyaratt 2', 'Etablissement_Lycée Tidjikja', 'Etablissement_Lycée Tiguinit', 'Etablissement_Lycée Timbedra', 'Etablissement_Lycée Tintane', 'Etablissement_Lycée Toujounine 1', 'Etablissement_Lycée Toujounine 2', 'Etablissement_Lycée Toujounine 3', 'Etablissement_Lycée Toujounine 4', 'Etablissement_Lycée Vassala', 'Etablissement_Lycée Wad naga', 'Etablissement_Lycée Walata', 'Etablissement_Lycée Wava Nouadhibou', 'Etablissement_Lycée Zouerat', 'Etablissement_Lycée chinguetti', 'Etablissement_Lycée de Barkéol', 'Etablissement_Lycée de Garçons 1', 'Etablissement_Lycée de Garçons 2', 'Etablissement_Lycée de Kobéni', 'Etablissement_MAGHALITA', 'Etablissement_MAIN OULOUM NDB', 'Etablissement_MEKA EL MOUKARAMA ARAFAT', 'Etablissement_MIVTAH NAJAH Arafat', 'Etablissement_MOUHAMED LEMINN DRAMY', 'Etablissement_Mademba Diop Sebkha', 'Etablissement_Maleck -Tintane', 'Etablissement_Mariem Diop Elmina', 'Etablissement_Menab El Ouloum TZN', 'Etablissement_Menahil El Elm 1 Riyad', 'Etablissement_Messar El Veteh T,ZN', 'Etablissement_Mimbar El Elem TEY', 'Etablissement_Missbah Néma', 'Etablissement_Moctar Deddah Teyaret', 'Etablissement_Mohamedya Toujounine', 'Etablissement_Mouhamediya Nouvelle KSAR', 'Etablissement_Mouhamediya Tetane', 'Etablissement_Mounir (Seilibaby)', 'Etablissement_Mounir Sebkha', 'Etablissement_Moustaghbel Boutilimit', 'Etablissement_NABIHIN 1 Arafat', 'Etablissement_NAHDHA WAD NAGA', 'Etablissement_NOUR EL HAYAT TEY', 'Etablissement_NOURA Riyad', 'Etablissement_NOURSATHA Riyad', 'Etablissement_Nation', 'Etablissement_Neil Elilm', 'Etablissement_Nibrass Arafatt', 'Etablissement_Nibrass El Maariva BTLM', 'Etablissement_Noukbit El Asser RYD', 'Etablissement_Noukhab', 'Etablissement_Nour El Elem Riyad', 'Etablissement_OULD RAZGA ARAFAT', 'Etablissement_Ould Razga', 'Etablissement_Oum El Ghoura Dar Naime', 'Etablissement_Ourwa DRN', 'Etablissement_PORTE DU SAVOIR', 'Etablissement_Patriote El Mina', 'Etablissement_RISSALA Kiffa', 'Etablissement_ROUGHI EL ILM ARAFAT', 'Etablissement_Rachid Kiffa', 'Etablissement_Rajaa 1 Carrafour', 'Etablissement_Rajaa2 Arafat', 'Etablissement_Ribatt Zoueiratt', 'Etablissement_Roumouz El Gadh TEY', 'Etablissement_SABLETTES T,ZN', 'Etablissement_SAIDOU NOUROU BA Arafat', 'Etablissement_SALAH DINE', 'Etablissement_SIBA WAIHY Riyad', 'Etablissement_Salah Dine TEY', 'Etablissement_Seb Tiwal Dar Naime', 'Etablissement_Sebil Amourj', 'Etablissement_Sebil Dar Naim', 'Etablissement_Sebil El Hora Aioun', 'Etablissement_Sebil El Hourati Timbedra', 'Etablissement_Sebil Nejah', 'Etablissement_Sebil Néma', 'Etablissement_Sebil Wad naga', 'Etablissement_Service Examen', 'Etablissement_TARBIYATOU HADITHA', 'Etablissement_TEMEYOUZ Kiffa', 'Etablissement_THIERNO NDIAYE BARRO', 'Etablissement_Taghadoum El Houra Arafat', 'Etablissement_Taghwa Arafat', 'Etablissement_Tahssil EL Ouloum 2', 'Etablissement_Taiba Arafat', 'Etablissement_Tarbiya Nmewdhejiya Toujounine', 'Etablissement_Taregh Toujounine', 'Etablissement_Temple du Savoir (Seilibaby)', 'Etablissement_Thiérno Moctar Kelly SBK', 'Etablissement_WALATI BAOBAB', 'Etablissement_ZEID THABIT', 'Etablissement_ZEINE ABIDINE', 'Etablissement_Zahra Sebkha', 'Etablissement_Zem Zem Zoueiratt', 'Willaya_Adrar', 'Willaya_Assaba', 'Willaya_Brakna', 'Willaya_Dakhlet NDB', 'Willaya_Gorgol', 'Willaya_Guidimagha', 'Willaya_Hod Charghy', 'Willaya_Hod Gharby', 'Willaya_Inchiri', 'Willaya_Nouakchott 1 (Nord)', 'Willaya_Nouakchott 2 (Ouest)', 'Willaya_Nouakchott 3 (Sud)', 'Willaya_Tagant', 'Willaya_Tiris Zemour', 'Willaya_Trarza', 'moughataa_AIOUN', 'moughataa_AKJOUJT', 'moughataa_ALEG', 'moughataa_AMOURJ', 'moughataa_ARAFAT', 'moughataa_ATAR', 'moughataa_BABABE', 'moughataa_BARKEOL', 'moughataa_BASSEKNOU', 'moughataa_BENICHAB', 'moughataa_BOGHE', 'moughataa_BOUMDEID', 'moughataa_BOUTILIMITT', 'moughataa_CHINGUITTI', 'moughataa_DAR NAIM', 'moughataa_DJIGUENNI', 'moughataa_EL MEJRYA', 'moughataa_EL MINA', 'moughataa_GHABOU', 'moughataa_GUERROU', 'moughataa_KAEDI', 'moughataa_KANKOSSA', 'moughataa_KIFFA', 'moughataa_KOUBENNI', 'moughataa_KSAR', \"moughataa_M'BAGNE\", \"moughataa_M'BOUT\", 'moughataa_MAGHAMA', 'moughataa_MAGTA LAHJAR', 'moughataa_MEDERDRA', \"moughataa_MOUGHATAA D'ENNEAMA\", 'moughataa_NOUADHIBOU', 'moughataa_OUAD NAGA', 'moughataa_OUALATA', 'moughataa_OULD YENGE', \"moughataa_R'KIZ\", 'moughataa_RIYADH', 'moughataa_ROSSO', 'moughataa_SEBKHA', 'moughataa_SELIBABI', 'moughataa_TAMCHEKETT', 'moughataa_TEVRAGH ZEIN', 'moughataa_TEYARETT', 'moughataa_TIJIGJA', 'moughataa_TIMBEDRA', 'moughataa_TINTANE', 'moughataa_TOUJOUNINE', 'moughataa_ZOUERATT', 'sexe_F', 'sexe_M']"
   ]
  },
  {
   "cell_type": "code",
   "execution_count": 8,
   "id": "c0b3d7b5-3a01-46e2-8586-27fe385202cc",
   "metadata": {},
   "outputs": [],
   "source": [
    "test_data = test_data.reindex(columns=train_df_columns, fill_value=0)"
   ]
  },
  {
   "cell_type": "code",
   "execution_count": null,
   "id": "8432607a-a694-4c23-8941-789cc8cb2d25",
   "metadata": {},
   "outputs": [],
   "source": [
    "from sklearn.linear_model import LogisticRegression\n",
    "model = LogisticRegression()\n",
    "model.fit(X_train, y_train)\n",
    "from sklearn.metrics import roc_auc_score\n",
    "auc_score = roc_auc_score(y_val, model.predict_proba(X_val)[:, 1])\n",
    "auc_score"
   ]
  },
  {
   "cell_type": "code",
   "execution_count": 9,
   "id": "43995ab0-90f7-4079-8a5c-632746e17d7d",
   "metadata": {},
   "outputs": [
    {
     "data": {
      "text/html": [
       "<div>\n",
       "<style scoped>\n",
       "    .dataframe tbody tr th:only-of-type {\n",
       "        vertical-align: middle;\n",
       "    }\n",
       "\n",
       "    .dataframe tbody tr th {\n",
       "        vertical-align: top;\n",
       "    }\n",
       "\n",
       "    .dataframe thead th {\n",
       "        text-align: right;\n",
       "    }\n",
       "</style>\n",
       "<table border=\"1\" class=\"dataframe\">\n",
       "  <thead>\n",
       "    <tr style=\"text-align: right;\">\n",
       "      <th></th>\n",
       "      <th>Id</th>\n",
       "      <th>Predicted</th>\n",
       "    </tr>\n",
       "  </thead>\n",
       "  <tbody>\n",
       "    <tr>\n",
       "      <th>0</th>\n",
       "      <td>ID_12</td>\n",
       "      <td>NaN</td>\n",
       "    </tr>\n",
       "    <tr>\n",
       "      <th>1</th>\n",
       "      <td>ID_14</td>\n",
       "      <td>NaN</td>\n",
       "    </tr>\n",
       "    <tr>\n",
       "      <th>2</th>\n",
       "      <td>ID_15</td>\n",
       "      <td>NaN</td>\n",
       "    </tr>\n",
       "    <tr>\n",
       "      <th>3</th>\n",
       "      <td>ID_22</td>\n",
       "      <td>NaN</td>\n",
       "    </tr>\n",
       "    <tr>\n",
       "      <th>4</th>\n",
       "      <td>ID_23</td>\n",
       "      <td>NaN</td>\n",
       "    </tr>\n",
       "    <tr>\n",
       "      <th>...</th>\n",
       "      <td>...</td>\n",
       "      <td>...</td>\n",
       "    </tr>\n",
       "    <tr>\n",
       "      <th>15925</th>\n",
       "      <td>ID_39812</td>\n",
       "      <td>NaN</td>\n",
       "    </tr>\n",
       "    <tr>\n",
       "      <th>15926</th>\n",
       "      <td>ID_39816</td>\n",
       "      <td>NaN</td>\n",
       "    </tr>\n",
       "    <tr>\n",
       "      <th>15927</th>\n",
       "      <td>ID_39819</td>\n",
       "      <td>NaN</td>\n",
       "    </tr>\n",
       "    <tr>\n",
       "      <th>15928</th>\n",
       "      <td>ID_39821</td>\n",
       "      <td>NaN</td>\n",
       "    </tr>\n",
       "    <tr>\n",
       "      <th>15929</th>\n",
       "      <td>ID_39822</td>\n",
       "      <td>NaN</td>\n",
       "    </tr>\n",
       "  </tbody>\n",
       "</table>\n",
       "<p>15930 rows × 2 columns</p>\n",
       "</div>"
      ],
      "text/plain": [
       "             Id  Predicted\n",
       "0         ID_12        NaN\n",
       "1         ID_14        NaN\n",
       "2         ID_15        NaN\n",
       "3         ID_22        NaN\n",
       "4         ID_23        NaN\n",
       "...         ...        ...\n",
       "15925  ID_39812        NaN\n",
       "15926  ID_39816        NaN\n",
       "15927  ID_39819        NaN\n",
       "15928  ID_39821        NaN\n",
       "15929  ID_39822        NaN\n",
       "\n",
       "[15930 rows x 2 columns]"
      ]
     },
     "execution_count": 9,
     "metadata": {},
     "output_type": "execute_result"
    }
   ],
   "source": [
    "submission_template = pd.read_csv('submission_template.csv')\n",
    "submission_template"
   ]
  },
  {
   "cell_type": "code",
   "execution_count": 10,
   "id": "5d793034-93d5-4047-af16-aea599de6f68",
   "metadata": {},
   "outputs": [
    {
     "data": {
      "text/html": [
       "<div>\n",
       "<style scoped>\n",
       "    .dataframe tbody tr th:only-of-type {\n",
       "        vertical-align: middle;\n",
       "    }\n",
       "\n",
       "    .dataframe tbody tr th {\n",
       "        vertical-align: top;\n",
       "    }\n",
       "\n",
       "    .dataframe thead th {\n",
       "        text-align: right;\n",
       "    }\n",
       "</style>\n",
       "<table border=\"1\" class=\"dataframe\">\n",
       "  <thead>\n",
       "    <tr style=\"text-align: right;\">\n",
       "      <th></th>\n",
       "      <th>Id</th>\n",
       "      <th>Predicted</th>\n",
       "    </tr>\n",
       "  </thead>\n",
       "  <tbody>\n",
       "    <tr>\n",
       "      <th>0</th>\n",
       "      <td>ID_12</td>\n",
       "      <td>0.049471</td>\n",
       "    </tr>\n",
       "    <tr>\n",
       "      <th>1</th>\n",
       "      <td>ID_14</td>\n",
       "      <td>0.021678</td>\n",
       "    </tr>\n",
       "    <tr>\n",
       "      <th>2</th>\n",
       "      <td>ID_15</td>\n",
       "      <td>0.049604</td>\n",
       "    </tr>\n",
       "    <tr>\n",
       "      <th>3</th>\n",
       "      <td>ID_22</td>\n",
       "      <td>0.021708</td>\n",
       "    </tr>\n",
       "    <tr>\n",
       "      <th>4</th>\n",
       "      <td>ID_23</td>\n",
       "      <td>0.072549</td>\n",
       "    </tr>\n",
       "    <tr>\n",
       "      <th>...</th>\n",
       "      <td>...</td>\n",
       "      <td>...</td>\n",
       "    </tr>\n",
       "    <tr>\n",
       "      <th>15925</th>\n",
       "      <td>ID_39812</td>\n",
       "      <td>0.017949</td>\n",
       "    </tr>\n",
       "    <tr>\n",
       "      <th>15926</th>\n",
       "      <td>ID_39816</td>\n",
       "      <td>0.019619</td>\n",
       "    </tr>\n",
       "    <tr>\n",
       "      <th>15927</th>\n",
       "      <td>ID_39819</td>\n",
       "      <td>0.014094</td>\n",
       "    </tr>\n",
       "    <tr>\n",
       "      <th>15928</th>\n",
       "      <td>ID_39821</td>\n",
       "      <td>0.018107</td>\n",
       "    </tr>\n",
       "    <tr>\n",
       "      <th>15929</th>\n",
       "      <td>ID_39822</td>\n",
       "      <td>0.018466</td>\n",
       "    </tr>\n",
       "  </tbody>\n",
       "</table>\n",
       "<p>15930 rows × 2 columns</p>\n",
       "</div>"
      ],
      "text/plain": [
       "             Id  Predicted\n",
       "0         ID_12   0.049471\n",
       "1         ID_14   0.021678\n",
       "2         ID_15   0.049604\n",
       "3         ID_22   0.021708\n",
       "4         ID_23   0.072549\n",
       "...         ...        ...\n",
       "15925  ID_39812   0.017949\n",
       "15926  ID_39816   0.019619\n",
       "15927  ID_39819   0.014094\n",
       "15928  ID_39821   0.018107\n",
       "15929  ID_39822   0.018466\n",
       "\n",
       "[15930 rows x 2 columns]"
      ]
     },
     "execution_count": 10,
     "metadata": {},
     "output_type": "execute_result"
    }
   ],
   "source": [
    "test_pred_proba = model.predict_proba(test_data)[:, 1]  # get the probability of the positive class\n",
    "submission = pd.DataFrame({'Id': submission_template['Id'], 'Predicted': test_pred_proba})\n",
    "submission.to_csv('sub.csv', index=False)\n",
    "submission"
   ]
  },
  {
   "cell_type": "code",
   "execution_count": null,
   "id": "55d4004c-932e-46fb-b041-13ea2cfad7e8",
   "metadata": {},
   "outputs": [],
   "source": []
  },
  {
   "cell_type": "code",
   "execution_count": null,
   "id": "7ca2d066-a3e8-4128-8b87-1728d8a949b8",
   "metadata": {},
   "outputs": [],
   "source": []
  }
 ],
 "metadata": {
  "kernelspec": {
   "display_name": "Python 3 (ipykernel)",
   "language": "python",
   "name": "python3"
  },
  "language_info": {
   "codemirror_mode": {
    "name": "ipython",
    "version": 3
   },
   "file_extension": ".py",
   "mimetype": "text/x-python",
   "name": "python",
   "nbconvert_exporter": "python",
   "pygments_lexer": "ipython3",
   "version": "3.9.12"
  }
 },
 "nbformat": 4,
 "nbformat_minor": 5
}
